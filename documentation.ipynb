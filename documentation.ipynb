{
 "cells": [
  {
   "cell_type": "code",
   "execution_count": 2,
   "id": "6bab95e2",
   "metadata": {},
   "outputs": [
    {
     "name": "stdout",
     "output_type": "stream",
     "text": [
      "Lia is added!\n",
      "Yeji is added!\n",
      "Employee List!!\n",
      "Lia, yejisu@gmail.com, 165463, Gangnam\n",
      "Yeji, hwyeji@gmail.com, 15463, Gwangjin-Gu\n"
     ]
    }
   ],
   "source": [
    "# Customer\n",
    "# Employee\n",
    "# Admin\n",
    "from abc import ABC\n",
    "\n",
    "\n",
    "class User(ABC):\n",
    "    def __init__(self, name, email, phn_no, address):\n",
    "        self.name = name\n",
    "        self.email = email\n",
    "        self.phn_no = phn_no\n",
    "        self.address = address\n",
    "\n",
    "\n",
    "class Employee(User):\n",
    "    def __init__(self, name, email, phn_no, address, age, designation, salary):\n",
    "        super().__init__(name, email, phn_no, address)\n",
    "        self.age = age\n",
    "        self.designation = designation\n",
    "        self.salary = salary\n",
    "\n",
    "\n",
    "class Admin(User):\n",
    "    def __init__(self, name, email, phn_no, address):\n",
    "        super().__init__(name, email, phn_no, address)\n",
    "        self.employees = []  # database for employee\n",
    "\n",
    "    def addEmployee(self, name, email, phone, address,age, designation, salary):\n",
    "        employee = Employee(name, email, phone, address,age, designation, salary)\n",
    "        self.employees.append(employee)\n",
    "        print(f\"{employee.name} is added!\")\n",
    "    \n",
    "    def viewEmployee(self):\n",
    "        print(\"Employee List!!\")\n",
    "        for x in self.employees:\n",
    "            print(f\"{x.name}, {x.email}, {x.phn_no}, {x.address}\")\n",
    "class Restaurant:\n",
    "    def __init__(self, name):\n",
    "        self.name=name\n",
    "        \n",
    "\n",
    "\n",
    "ad=Admin('Admin', 'admin@gmail.com', 12316456, \"Seoul\")\n",
    "ad.addEmployee(\"Lia\", \"yejisu@gmail.com\", 165463, \"Gangnam\",20,'Waiter',12000)\n",
    "ad.addEmployee(\"Yeji\", \"hwyeji@gmail.com\", 15463, \"Gwangjin-Gu\",22, \"Chef\", 15000)\n",
    "ad.viewEmployee()"
   ]
  },
  {
   "cell_type": "markdown",
   "id": "0cfaf2d7",
   "metadata": {},
   "source": [
    "So far, we have added 3 classesss is the base class, other classes inherits from it. Employee class is just a class for creating Employee object. "
   ]
  },
  {
   "cell_type": "markdown",
   "id": "9939d3d7",
   "metadata": {},
   "source": [
    "The Admin class right now can add employees and view employees. We have implemented the functions in the admin class. Therefore, it's easily visible. But we want to do abstraction. Therefore, we will move it to another class named \"Restaurant\" so that when admin wants to add employees, it will call the function from that class and the work will be done. No need to show what's going on behind the scene."
   ]
  },
  {
   "cell_type": "code",
   "execution_count": null,
   "id": "4ef8788e",
   "metadata": {},
   "outputs": [],
   "source": [
    "# Customer\n",
    "# Employee\n",
    "# Admin\n",
    "from abc import ABC\n",
    "\n",
    "\n",
    "class User(ABC):\n",
    "    def __init__(self, name, email, phn_no, address):\n",
    "        self.name = name\n",
    "        self.email = email\n",
    "        self.phn_no = phn_no\n",
    "        self.address = address\n",
    "\n",
    "\n",
    "class Employee(User):\n",
    "    def __init__(self, name, email, phn_no, address, age, designation, salary):\n",
    "        super().__init__(name, email, phn_no, address)\n",
    "        self.age = age\n",
    "        self.designation = designation\n",
    "        self.salary = salary\n",
    "\n",
    "\n",
    "class Admin(User):\n",
    "    def __init__(self, name, email, phn_no, address):\n",
    "        super().__init__(name, email, phn_no, address)\n",
    "\n",
    "    def viewEmployee(self):\n",
    "        print(\"Employee List!!\")\n",
    "        for x in self.employees:\n",
    "            print(f\"{x.name}, {x.email}, {x.phn_no}, {x.address}\")\n",
    "\n",
    "\n",
    "class Restaurant:\n",
    "    def __init__(self, name):\n",
    "        self.name = name\n",
    "        self.employees = []  # database for employee\n",
    "\n",
    "    def addEmployee(self, name, email, phone, address, age, designation, salary): \n",
    "        self.employee = Employee(name, email, phone, address, age, designation, salary)\n",
    "        self.employees.append(employee)\n",
    "        print(f\"{employee.name} is added!\")\n",
    "\n",
    "\n",
    "ad = Admin(\"Admin\", \"admin@gmail.com\", 12316456, \"Seoul\")\n",
    "ad.addEmployee(\"Lia\", \"yejisu@gmail.com\", 165463, \"Gangnam\", 20, \"Waiter\", 12000)\n",
    "ad.addEmployee(\"Yeji\", \"hwyeji@gmail.com\", 15463, \"Gwangjin-Gu\", 22, \"Chef\", 15000)\n",
    "ad.viewEmployee()\n"
   ]
  },
  {
   "cell_type": "markdown",
   "id": "4542c395",
   "metadata": {},
   "source": [
    "instead of taking all infos as parameter, we will jsut recieve employee object in add employee function. It will help us to create objects after taking inputs and then just use the addEmployee method[becuase this is a fucntion of a class, function of a class is called method] to add employee. "
   ]
  },
  {
   "cell_type": "code",
   "execution_count": 5,
   "id": "b875d1de",
   "metadata": {},
   "outputs": [],
   "source": [
    "class Admin(User):\n",
    "    def __init__(self, name, email, phn_no, address):\n",
    "        super().__init__(name, email, phn_no, address)\n",
    "\n",
    "    def addEmployee(self, restaurant, employee): #restaurant is an object\n",
    "        restaurant.addEmployee(employee)  # we are calling addEmployee fucntion of restaurant object to add new employees\n",
    "\n",
    "    def viewEmployee(self):\n",
    "        print(\"Employee List!!\")\n",
    "        for x in self.employees:\n",
    "            print(f\"{x.name}, {x.email}, {x.phn_no}, {x.address}\")\n",
    "\n",
    "\n",
    "\n",
    "\n",
    "class Restaurant:\n",
    "    def __init__(self, name):\n",
    "        self.name = name\n",
    "        self.employees = []  # database for employee\n",
    "\n",
    "    def addEmployee(self, employee):\n",
    "        self.employees.append(employee)"
   ]
  },
  {
   "cell_type": "markdown",
   "id": "f34784a1",
   "metadata": {},
   "source": [
    "Now, from Employee class, we will take restaurant object as parameter and then use that object's addEmployee function to add new employee. \n",
    "\n",
    "We can also move view employees to the restaurant class and only use viewEmployees func from the Employee class to make things more abstract. "
   ]
  },
  {
   "cell_type": "code",
   "execution_count": 4,
   "id": "dc5babcc",
   "metadata": {},
   "outputs": [],
   "source": [
    "class Admin(User):\n",
    "    def __init__(self, name, email, phn_no, address):\n",
    "        super().__init__(name, email, phn_no, address)\n",
    "\n",
    "    def addEmployee(self, restaurant, employee):  # restaurant is an object\n",
    "        restaurant.addEmployee(employee)  # we are calling addEmployee fucntion of restaurant object to add new employees\n",
    "\n",
    "    def viewEmployee(self, restaurant):\n",
    "        restaurant.viewEmployee()\n",
    "\n",
    "class Restaurant:\n",
    "    def __init__(self, name):\n",
    "        self.name = name\n",
    "        self.employees = []  # database for employee\n",
    "\n",
    "    def addEmployee(self, employee):\n",
    "        self.employees.append(employee)\n",
    "\n",
    "    def viewEmployee(self):\n",
    "        print(\"Employee List!!\")\n",
    "        for x in self.employees:\n",
    "            print(f\"{x.name}, {x.email}, {x.phn_no}, {x.address}\")"
   ]
  },
  {
   "cell_type": "markdown",
   "id": "1ce284d4",
   "metadata": {},
   "source": [
    "Time to add Menu! "
   ]
  },
  {
   "cell_type": "code",
   "execution_count": 6,
   "id": "04922b3d",
   "metadata": {},
   "outputs": [],
   "source": [
    "class Menu:\n",
    "    def __init__(self):\n",
    "        self.items = []  # database for items\n",
    "\n",
    "    def addMenuItem(self, item):\n",
    "        self.items.append(item)\n",
    "\n",
    "    def findItem(self, itemName):\n",
    "        for x in self.items:\n",
    "            if x.name.lower() == itemName.lower():\n",
    "                return x\n",
    "        return None\n",
    "\n",
    "    def removeItem(self, itemName):\n",
    "        item = self.findItem(itemName)\n",
    "        if item:\n",
    "            self.items.remove(item)\n",
    "            print(\"Item deleted!\")\n",
    "        else:\n",
    "            print(\"Item not found!\")"
   ]
  },
  {
   "cell_type": "markdown",
   "id": "5973f6d0",
   "metadata": {},
   "source": [
    "In Menu, we should be able to add and delete Items. We can use a list as database for items and then use a func to add items and also one to find and one to delete item. If we want we can find and delete item in one func, but this way func will be clear. \n",
    "Now, we will be going to use item object and also going to use findItem function, which will return item if it can find it or else it will return None. \n",
    "If item exists, self.items.remove(item) will remove that from the list. "
   ]
  },
  {
   "cell_type": "markdown",
   "id": "4c2a1b73",
   "metadata": {},
   "source": [
    "Time to add Food Items!"
   ]
  },
  {
   "cell_type": "code",
   "execution_count": null,
   "id": "e584735b",
   "metadata": {},
   "outputs": [],
   "source": [
    "class Menu:\n",
    "    def __init__(self):\n",
    "        self.items = []  # database for items\n",
    "\n",
    "    def addMenuItem(self, item):\n",
    "        self.items.append(item)\n",
    "\n",
    "    def findItem(self, itemName):\n",
    "        for x in self.items:\n",
    "            if x.name.lower() == itemName.lower():\n",
    "                return x\n",
    "        return None\n",
    "\n",
    "    def removeItem(self, itemName):\n",
    "        item = self.findItem(itemName)\n",
    "        if item:\n",
    "            self.items.remove(item)\n",
    "            print(\"Item deleted!\")\n",
    "        else:\n",
    "            print(\"Item not found!\")\n",
    "\n",
    "    def showMenuItems(self):\n",
    "        print(\"***********Showing Menu Item***********\")\n",
    "        print(f\"Name\\tPrice\\tQuantity\")\n",
    "        for i in self.items:\n",
    "            print(f\"{i.name}\\t {i.price}\\t {i.quantity}\")\n",
    "\n",
    "\n",
    "class FoodItem():\n",
    "    def __init__(self, name, price, quantity):\n",
    "        self.name=name\n",
    "        self.price=price\n",
    "        self.quantity=quantity\n",
    "\n",
    "mn=Menu()\n",
    "item=FoodItem(\"Pizza\", 12.45, 10)\n",
    "mn.addMenuItem(item)\n",
    "mn.showMenuItems()"
   ]
  },
  {
   "cell_type": "markdown",
   "id": "36297592",
   "metadata": {},
   "source": [
    "We created a FoodItem class so that we can create item objects and add them to menu. The methods in Menu class will be used to show menu and to add or remove items from the menu."
   ]
  },
  {
   "cell_type": "markdown",
   "id": "11e3eb9a",
   "metadata": {},
   "source": [
    "Time to give admin access to menu to add or remove items"
   ]
  },
  {
   "cell_type": "code",
   "execution_count": 7,
   "id": "06cdb0cc",
   "metadata": {},
   "outputs": [],
   "source": [
    "class Admin(User):\n",
    "    def __init__(self, name, email, phn_no, address):\n",
    "        super().__init__(name, email, phn_no, address)\n",
    "\n",
    "    def addEmployee(self, restaurant, employee):  # restaurant is an object\n",
    "        restaurant.addEmployee(employee)  # we are calling addEmployee fucntion of restaurant object to add new employees\n",
    "\n",
    "    def viewEmployee(self, restaurant):\n",
    "        restaurant.viewEmployee()\n",
    "\n",
    "    def addNewItem(self, restaurant, item):\n",
    "        restaurant.menu.addMenuItem(item)\n",
    "\n",
    "    def removeItem(self, restaurant, item):\n",
    "        restaurant.menu.removeItem(item)\n",
    "\n",
    "\n",
    "class Restaurant:\n",
    "    def __init__(self, name):\n",
    "        self.name = name\n",
    "        self.employees = []  # database for employee\n",
    "        self.menu = Menu() #-> this will create an object named Menu in the restuarant class, then it will use Menu() to acess that class. \n",
    "        # When admin calss is using restaurant class, it can use restaurant.menu.methodName() to use the methods in menu class as well\n",
    "\n",
    "    def addEmployee(self, employee):\n",
    "        self.employees.append(employee)\n",
    "\n",
    "    def viewEmployee(self):\n",
    "        print(\"Employee List!!\")\n",
    "        for x in self.employees:\n",
    "            print(f\"{x.name}, {x.email}, {x.phn_no}, {x.address}\")\n",
    "\n",
    "\n",
    "class Menu:\n",
    "    def __init__(self):\n",
    "        self.items = []  # database for items\n",
    "\n",
    "    def addMenuItem(self, item):\n",
    "        self.items.append(item)\n",
    "\n",
    "    def findItem(self, itemName):\n",
    "        for x in self.items:\n",
    "            if x.name.lower() == itemName.lower():\n",
    "                return x\n",
    "        return None\n",
    "\n",
    "    def removeItem(self, itemName):\n",
    "        item = self.findItem(itemName)\n",
    "        if item:\n",
    "            self.items.remove(item)\n",
    "            print(\"Item deleted!\")\n",
    "        else:\n",
    "            print(\"Item not found!\")\n",
    "\n",
    "    def showMenuItems(self):\n",
    "        print(\"***********Showing Menu Item***********\")\n",
    "        print(f\"Name\\tPrice\\tQuantity\")\n",
    "        for i in self.items:\n",
    "            print(f\"{i.name}\\t {i.price}\\t {i.quantity}\")\n"
   ]
  },
  {
   "cell_type": "code",
   "execution_count": null,
   "id": "7136c787",
   "metadata": {},
   "outputs": [],
   "source": [
    "def addNewItem(self, restaurant, item):\n",
    "        restaurant.menu.addMenuItem(item)\n",
    "\n",
    "def removeItem(self, restaurant, item):\n",
    "        restaurant.menu.removeItem(item)"
   ]
  },
  {
   "cell_type": "markdown",
   "id": "fab7af3f",
   "metadata": {},
   "source": [
    "These 2 are used in admin class to add and remove items."
   ]
  },
  {
   "cell_type": "code",
   "execution_count": null,
   "id": "a261fb13",
   "metadata": {},
   "outputs": [],
   "source": [
    "class Restaurant:\n",
    "    def __init__(self, name):\n",
    "        self.name = name\n",
    "        self.employees = []  # database for employees\n",
    "        self.menu=Menu()"
   ]
  },
  {
   "cell_type": "markdown",
   "id": "12fb97e6",
   "metadata": {},
   "source": [
    "self.menu = Menu() #-> this will create an object named Menu in the restuarant class, then it will use Menu() to acess that class."
   ]
  },
  {
   "cell_type": "markdown",
   "id": "d2eba648",
   "metadata": {},
   "source": [
    "\n",
    "When admin class is using restaurant class, it can use restaurant.menu.methodName() to use the methods in menu class as well"
   ]
  },
  {
   "cell_type": "markdown",
   "id": "51b02b21",
   "metadata": {},
   "source": []
  }
 ],
 "metadata": {
  "kernelspec": {
   "display_name": "Python 3",
   "language": "python",
   "name": "python3"
  },
  "language_info": {
   "codemirror_mode": {
    "name": "ipython",
    "version": 3
   },
   "file_extension": ".py",
   "mimetype": "text/x-python",
   "name": "python",
   "nbconvert_exporter": "python",
   "pygments_lexer": "ipython3",
   "version": "3.13.2"
  }
 },
 "nbformat": 4,
 "nbformat_minor": 5
}
